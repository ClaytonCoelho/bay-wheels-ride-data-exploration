{
 "cells": [
  {
   "cell_type": "markdown",
   "metadata": {},
   "source": [
    "# 2019 Bay Wheels Ride Data Exploration \n",
    "## by Clayton Coelho\n",
    "\n",
    "## Table of Contents\n",
    "- [Introduction](#intro)\n",
    "- [Preliminary Wrangling](#preli)\n",
    "- [Gathering Data](#gathering)\n",
    "- [Assessing Data](#assessing)\n",
    "- [Cleaning Data](#cleaning)\n",
    "- [Analyzing and Visualizing Data](#analyzing)\n",
    "\n",
    "<a id='intro'></a>\n",
    "## Introduction\n",
    "\n",
    "Bay Wheels (previously known as Ford GoBike) is a regional public bicycle sharing system in the San Francisco Bay Area, California. Beginning operation in August 2013 as Bay Area Bike Share, the Ford GoBike system currently has over 2,600 bicycles in 262 stations across San Francisco, East Bay and San Jose. On June 28, 2017, the system officially launched as Ford GoBike in a partnership with Ford Motor Company.\n",
    "\n",
    "In June 2019, after Motivate's acquisition by Lyft, the system rebranded to Bay Wheels and dropped the Ford naming. Along with the rebranding, Bay Wheels also deployed a new generation of bicycles which can use bikeshare docks and also operate in a dockless mode, in which customers can lock the bike to a bicycle rack with a built-in lock. In July 2019, defects with the batteries for the electric bicycle models caused Lyft to withdraw all electric-assist models until December 2019, when electric-assist service relaunched with updated hardware.\n",
    "\n",
    "The bikes are available for use 24 hours/day, 7 days/week, 365 days/year and riders have access to all bikes in the network when they become a member or purchase a pass.\n",
    "\n",
    "In this project I will analyze data about 2019 and evaluate trends and behaviors.\n",
    "\n",
    "See the data [here](https://www.lyft.com/bikes/bay-wheels/system-data).\n",
    "\n",
    "<a id='preli'></a>\n",
    "## Preliminary Wrangling"
   ]
  },
  {
   "cell_type": "code",
   "execution_count": 15,
   "metadata": {},
   "outputs": [],
   "source": [
    "# import all packages and set plots to be embedded inline\n",
    "import numpy as np\n",
    "import pandas as pd\n",
    "import matplotlib.pyplot as plt\n",
    "import seaborn as sb\n",
    "import requests\n",
    "import os\n",
    "import zipfile\n",
    "import glob\n",
    "\n",
    "%matplotlib inline"
   ]
  },
  {
   "cell_type": "markdown",
   "metadata": {},
   "source": [
    "<a id='gathering'></a>\n",
    "## Gathering Data"
   ]
  },
  {
   "cell_type": "code",
   "execution_count": 14,
   "metadata": {},
   "outputs": [],
   "source": [
    "# Download files zip only 2019\n",
    "\n",
    "path_save = './data/' # Path local \n",
    "\n",
    "# Loop for download and extract files csv\n",
    "for month in range(1, 13):\n",
    "    # Set url by month\n",
    "    if month < 5:\n",
    "        url = 'https://s3.amazonaws.com/baywheels-data/2019{:02d}-fordgobike-tripdata.csv.zip'.format(month)\n",
    "    else:\n",
    "        url = 'https://s3.amazonaws.com/baywheels-data/2019{:02d}-baywheels-tripdata.csv.zip'.format(month)\n",
    "        \n",
    "    filename_zip = url.split(\"/\")[-1] # Get filename of file zip\n",
    "    response = requests.get(url) # Requests url\n",
    "    \n",
    "    # Save zip file in local path\n",
    "    with open(path_save + filename_zip, \"wb\") as file:\n",
    "        file.write(response.content)\n",
    "    \n",
    "    # Unzip file in local path e remove origin file zip\n",
    "    zip_ref = zipfile.ZipFile(path_save + filename_zip) # Create zipfile object\n",
    "    zip_ref.extractall(path_save) # Extract file to dir\n",
    "    zip_ref.close() # Close file\n",
    "    os.remove(path_save + filename_zip) # delete zipped file"
   ]
  },
  {
   "cell_type": "code",
   "execution_count": 26,
   "metadata": {},
   "outputs": [],
   "source": [
    "# Import all files csv in DataFrame\n",
    "\n",
    "extension = 'csv' # Set the extension to csv\n",
    "\n",
    "# Create list with filenames csv\n",
    "all_filenames = [i for i in glob.glob(path_save + '*.{}'.format(extension))]\n",
    "\n",
    "# Combine all files in the list of Dataframe and concatenate\n",
    "df_baywheels = pd.concat([pd.read_csv(f, low_memory=False, index_col=None, header=0) for f in all_filenames ], axis=0, ignore_index=True)"
   ]
  },
  {
   "cell_type": "markdown",
   "metadata": {},
   "source": [
    "<a id='assessing'></a>\n",
    "## Assessing Data"
   ]
  },
  {
   "cell_type": "code",
   "execution_count": 28,
   "metadata": {},
   "outputs": [
    {
     "name": "stdout",
     "output_type": "stream",
     "text": [
      "<class 'pandas.core.frame.DataFrame'>\n",
      "RangeIndex: 2506983 entries, 0 to 2506982\n",
      "Data columns (total 15 columns):\n",
      " #   Column                   Dtype  \n",
      "---  ------                   -----  \n",
      " 0   duration_sec             int64  \n",
      " 1   start_time               object \n",
      " 2   end_time                 object \n",
      " 3   start_station_id         float64\n",
      " 4   start_station_name       object \n",
      " 5   start_station_latitude   float64\n",
      " 6   start_station_longitude  float64\n",
      " 7   end_station_id           float64\n",
      " 8   end_station_name         object \n",
      " 9   end_station_latitude     float64\n",
      " 10  end_station_longitude    float64\n",
      " 11  bike_id                  int64  \n",
      " 12  user_type                object \n",
      " 13  bike_share_for_all_trip  object \n",
      " 14  rental_access_method     object \n",
      "dtypes: float64(6), int64(2), object(7)\n",
      "memory usage: 286.9+ MB\n"
     ]
    }
   ],
   "source": [
    "# Visualize info from dataset\n",
    "df_baywheels.info()"
   ]
  },
  {
   "cell_type": "code",
   "execution_count": 30,
   "metadata": {},
   "outputs": [
    {
     "data": {
      "text/html": [
       "<div>\n",
       "<style scoped>\n",
       "    .dataframe tbody tr th:only-of-type {\n",
       "        vertical-align: middle;\n",
       "    }\n",
       "\n",
       "    .dataframe tbody tr th {\n",
       "        vertical-align: top;\n",
       "    }\n",
       "\n",
       "    .dataframe thead th {\n",
       "        text-align: right;\n",
       "    }\n",
       "</style>\n",
       "<table border=\"1\" class=\"dataframe\">\n",
       "  <thead>\n",
       "    <tr style=\"text-align: right;\">\n",
       "      <th></th>\n",
       "      <th>duration_sec</th>\n",
       "      <th>start_time</th>\n",
       "      <th>end_time</th>\n",
       "      <th>start_station_id</th>\n",
       "      <th>start_station_name</th>\n",
       "      <th>start_station_latitude</th>\n",
       "      <th>start_station_longitude</th>\n",
       "      <th>end_station_id</th>\n",
       "      <th>end_station_name</th>\n",
       "      <th>end_station_latitude</th>\n",
       "      <th>end_station_longitude</th>\n",
       "      <th>bike_id</th>\n",
       "      <th>user_type</th>\n",
       "      <th>bike_share_for_all_trip</th>\n",
       "      <th>rental_access_method</th>\n",
       "    </tr>\n",
       "  </thead>\n",
       "  <tbody>\n",
       "    <tr>\n",
       "      <th>0</th>\n",
       "      <td>60863</td>\n",
       "      <td>2019-09-30 11:48:02.7100</td>\n",
       "      <td>2019-10-01 04:42:25.8640</td>\n",
       "      <td>465.0</td>\n",
       "      <td>San Francisco Caltrain Station (King St at 4th...</td>\n",
       "      <td>37.776329</td>\n",
       "      <td>-122.394438</td>\n",
       "      <td>465.0</td>\n",
       "      <td>San Francisco Caltrain Station (King St at 4th...</td>\n",
       "      <td>37.776329</td>\n",
       "      <td>-122.394438</td>\n",
       "      <td>12904</td>\n",
       "      <td>Customer</td>\n",
       "      <td>No</td>\n",
       "      <td>NaN</td>\n",
       "    </tr>\n",
       "    <tr>\n",
       "      <th>1</th>\n",
       "      <td>36019</td>\n",
       "      <td>2019-09-30 16:16:32.3530</td>\n",
       "      <td>2019-10-01 02:16:51.9820</td>\n",
       "      <td>294.0</td>\n",
       "      <td>Pierce Ave at Market St</td>\n",
       "      <td>37.327581</td>\n",
       "      <td>-121.884559</td>\n",
       "      <td>443.0</td>\n",
       "      <td>3rd St at Keyes St</td>\n",
       "      <td>37.320866</td>\n",
       "      <td>-121.876279</td>\n",
       "      <td>163</td>\n",
       "      <td>Customer</td>\n",
       "      <td>No</td>\n",
       "      <td>NaN</td>\n",
       "    </tr>\n",
       "    <tr>\n",
       "      <th>2</th>\n",
       "      <td>5615</td>\n",
       "      <td>2019-09-30 23:12:25.9980</td>\n",
       "      <td>2019-10-01 00:46:01.9590</td>\n",
       "      <td>370.0</td>\n",
       "      <td>Jones St at Post St</td>\n",
       "      <td>37.787327</td>\n",
       "      <td>-122.413278</td>\n",
       "      <td>4.0</td>\n",
       "      <td>Cyril Magnin St at Ellis St</td>\n",
       "      <td>37.785881</td>\n",
       "      <td>-122.408915</td>\n",
       "      <td>10737</td>\n",
       "      <td>Customer</td>\n",
       "      <td>No</td>\n",
       "      <td>NaN</td>\n",
       "    </tr>\n",
       "    <tr>\n",
       "      <th>3</th>\n",
       "      <td>1482</td>\n",
       "      <td>2019-09-30 23:57:34.6630</td>\n",
       "      <td>2019-10-01 00:22:16.8490</td>\n",
       "      <td>109.0</td>\n",
       "      <td>17th St at Valencia St</td>\n",
       "      <td>37.763316</td>\n",
       "      <td>-122.421904</td>\n",
       "      <td>460.0</td>\n",
       "      <td>Terry Francois Blvd at Warriors Way</td>\n",
       "      <td>37.769095</td>\n",
       "      <td>-122.386333</td>\n",
       "      <td>10346</td>\n",
       "      <td>Customer</td>\n",
       "      <td>No</td>\n",
       "      <td>NaN</td>\n",
       "    </tr>\n",
       "    <tr>\n",
       "      <th>4</th>\n",
       "      <td>1272</td>\n",
       "      <td>2019-09-30 23:53:28.6530</td>\n",
       "      <td>2019-10-01 00:14:41.0740</td>\n",
       "      <td>95.0</td>\n",
       "      <td>Sanchez St at 15th St</td>\n",
       "      <td>37.766219</td>\n",
       "      <td>-122.431060</td>\n",
       "      <td>127.0</td>\n",
       "      <td>Valencia St at 21st St</td>\n",
       "      <td>37.756708</td>\n",
       "      <td>-122.421025</td>\n",
       "      <td>1349</td>\n",
       "      <td>Subscriber</td>\n",
       "      <td>No</td>\n",
       "      <td>NaN</td>\n",
       "    </tr>\n",
       "  </tbody>\n",
       "</table>\n",
       "</div>"
      ],
      "text/plain": [
       "   duration_sec                start_time                  end_time  \\\n",
       "0         60863  2019-09-30 11:48:02.7100  2019-10-01 04:42:25.8640   \n",
       "1         36019  2019-09-30 16:16:32.3530  2019-10-01 02:16:51.9820   \n",
       "2          5615  2019-09-30 23:12:25.9980  2019-10-01 00:46:01.9590   \n",
       "3          1482  2019-09-30 23:57:34.6630  2019-10-01 00:22:16.8490   \n",
       "4          1272  2019-09-30 23:53:28.6530  2019-10-01 00:14:41.0740   \n",
       "\n",
       "   start_station_id                                 start_station_name  \\\n",
       "0             465.0  San Francisco Caltrain Station (King St at 4th...   \n",
       "1             294.0                            Pierce Ave at Market St   \n",
       "2             370.0                                Jones St at Post St   \n",
       "3             109.0                             17th St at Valencia St   \n",
       "4              95.0                              Sanchez St at 15th St   \n",
       "\n",
       "   start_station_latitude  start_station_longitude  end_station_id  \\\n",
       "0               37.776329              -122.394438           465.0   \n",
       "1               37.327581              -121.884559           443.0   \n",
       "2               37.787327              -122.413278             4.0   \n",
       "3               37.763316              -122.421904           460.0   \n",
       "4               37.766219              -122.431060           127.0   \n",
       "\n",
       "                                    end_station_name  end_station_latitude  \\\n",
       "0  San Francisco Caltrain Station (King St at 4th...             37.776329   \n",
       "1                                 3rd St at Keyes St             37.320866   \n",
       "2                        Cyril Magnin St at Ellis St             37.785881   \n",
       "3                Terry Francois Blvd at Warriors Way             37.769095   \n",
       "4                             Valencia St at 21st St             37.756708   \n",
       "\n",
       "   end_station_longitude  bike_id   user_type bike_share_for_all_trip  \\\n",
       "0            -122.394438    12904    Customer                      No   \n",
       "1            -121.876279      163    Customer                      No   \n",
       "2            -122.408915    10737    Customer                      No   \n",
       "3            -122.386333    10346    Customer                      No   \n",
       "4            -122.421025     1349  Subscriber                      No   \n",
       "\n",
       "  rental_access_method  \n",
       "0                  NaN  \n",
       "1                  NaN  \n",
       "2                  NaN  \n",
       "3                  NaN  \n",
       "4                  NaN  "
      ]
     },
     "execution_count": 30,
     "metadata": {},
     "output_type": "execute_result"
    }
   ],
   "source": [
    "# Visualize the first five rows\n",
    "df_baywheels.head()"
   ]
  },
  {
   "cell_type": "code",
   "execution_count": 42,
   "metadata": {},
   "outputs": [
    {
     "data": {
      "text/html": [
       "<div>\n",
       "<style scoped>\n",
       "    .dataframe tbody tr th:only-of-type {\n",
       "        vertical-align: middle;\n",
       "    }\n",
       "\n",
       "    .dataframe tbody tr th {\n",
       "        vertical-align: top;\n",
       "    }\n",
       "\n",
       "    .dataframe thead th {\n",
       "        text-align: right;\n",
       "    }\n",
       "</style>\n",
       "<table border=\"1\" class=\"dataframe\">\n",
       "  <thead>\n",
       "    <tr style=\"text-align: right;\">\n",
       "      <th></th>\n",
       "      <th>count</th>\n",
       "      <th>mean</th>\n",
       "      <th>std</th>\n",
       "      <th>min</th>\n",
       "      <th>25%</th>\n",
       "      <th>50%</th>\n",
       "      <th>75%</th>\n",
       "      <th>max</th>\n",
       "    </tr>\n",
       "  </thead>\n",
       "  <tbody>\n",
       "    <tr>\n",
       "      <th>duration_sec</th>\n",
       "      <td>2506983.0</td>\n",
       "      <td>807.648330</td>\n",
       "      <td>1974.713981</td>\n",
       "      <td>60.000000</td>\n",
       "      <td>359.000000</td>\n",
       "      <td>571.000000</td>\n",
       "      <td>887.000000</td>\n",
       "      <td>912110.00</td>\n",
       "    </tr>\n",
       "    <tr>\n",
       "      <th>start_station_id</th>\n",
       "      <td>2426249.0</td>\n",
       "      <td>146.504749</td>\n",
       "      <td>122.317102</td>\n",
       "      <td>3.000000</td>\n",
       "      <td>47.000000</td>\n",
       "      <td>105.000000</td>\n",
       "      <td>243.000000</td>\n",
       "      <td>498.00</td>\n",
       "    </tr>\n",
       "    <tr>\n",
       "      <th>start_station_latitude</th>\n",
       "      <td>2506983.0</td>\n",
       "      <td>37.765064</td>\n",
       "      <td>0.136370</td>\n",
       "      <td>0.000000</td>\n",
       "      <td>37.769305</td>\n",
       "      <td>37.780526</td>\n",
       "      <td>37.795393</td>\n",
       "      <td>45.51</td>\n",
       "    </tr>\n",
       "    <tr>\n",
       "      <th>start_station_longitude</th>\n",
       "      <td>2506983.0</td>\n",
       "      <td>-122.349919</td>\n",
       "      <td>0.308965</td>\n",
       "      <td>-122.514299</td>\n",
       "      <td>-122.413004</td>\n",
       "      <td>-122.398285</td>\n",
       "      <td>-122.291415</td>\n",
       "      <td>0.00</td>\n",
       "    </tr>\n",
       "    <tr>\n",
       "      <th>end_station_id</th>\n",
       "      <td>2424081.0</td>\n",
       "      <td>142.704424</td>\n",
       "      <td>121.429649</td>\n",
       "      <td>3.000000</td>\n",
       "      <td>43.000000</td>\n",
       "      <td>101.000000</td>\n",
       "      <td>239.000000</td>\n",
       "      <td>498.00</td>\n",
       "    </tr>\n",
       "    <tr>\n",
       "      <th>end_station_latitude</th>\n",
       "      <td>2506983.0</td>\n",
       "      <td>37.764219</td>\n",
       "      <td>0.239289</td>\n",
       "      <td>0.000000</td>\n",
       "      <td>37.770030</td>\n",
       "      <td>37.780760</td>\n",
       "      <td>37.795873</td>\n",
       "      <td>45.51</td>\n",
       "    </tr>\n",
       "    <tr>\n",
       "      <th>end_station_longitude</th>\n",
       "      <td>2506983.0</td>\n",
       "      <td>-122.345908</td>\n",
       "      <td>0.708042</td>\n",
       "      <td>-122.514287</td>\n",
       "      <td>-122.411726</td>\n",
       "      <td>-122.398113</td>\n",
       "      <td>-122.293400</td>\n",
       "      <td>0.00</td>\n",
       "    </tr>\n",
       "    <tr>\n",
       "      <th>bike_id</th>\n",
       "      <td>2506983.0</td>\n",
       "      <td>27898.327162</td>\n",
       "      <td>114606.651187</td>\n",
       "      <td>4.000000</td>\n",
       "      <td>1952.000000</td>\n",
       "      <td>4420.000000</td>\n",
       "      <td>9682.000000</td>\n",
       "      <td>999941.00</td>\n",
       "    </tr>\n",
       "  </tbody>\n",
       "</table>\n",
       "</div>"
      ],
      "text/plain": [
       "                             count          mean            std         min  \\\n",
       "duration_sec             2506983.0    807.648330    1974.713981   60.000000   \n",
       "start_station_id         2426249.0    146.504749     122.317102    3.000000   \n",
       "start_station_latitude   2506983.0     37.765064       0.136370    0.000000   \n",
       "start_station_longitude  2506983.0   -122.349919       0.308965 -122.514299   \n",
       "end_station_id           2424081.0    142.704424     121.429649    3.000000   \n",
       "end_station_latitude     2506983.0     37.764219       0.239289    0.000000   \n",
       "end_station_longitude    2506983.0   -122.345908       0.708042 -122.514287   \n",
       "bike_id                  2506983.0  27898.327162  114606.651187    4.000000   \n",
       "\n",
       "                                 25%          50%          75%        max  \n",
       "duration_sec              359.000000   571.000000   887.000000  912110.00  \n",
       "start_station_id           47.000000   105.000000   243.000000     498.00  \n",
       "start_station_latitude     37.769305    37.780526    37.795393      45.51  \n",
       "start_station_longitude  -122.413004  -122.398285  -122.291415       0.00  \n",
       "end_station_id             43.000000   101.000000   239.000000     498.00  \n",
       "end_station_latitude       37.770030    37.780760    37.795873      45.51  \n",
       "end_station_longitude    -122.411726  -122.398113  -122.293400       0.00  \n",
       "bike_id                  1952.000000  4420.000000  9682.000000  999941.00  "
      ]
     },
     "execution_count": 42,
     "metadata": {},
     "output_type": "execute_result"
    }
   ],
   "source": [
    "# Verify statistics values\n",
    "df_baywheels.describe().T"
   ]
  },
  {
   "cell_type": "code",
   "execution_count": 31,
   "metadata": {},
   "outputs": [
    {
     "data": {
      "text/plain": [
       "duration_sec                     0\n",
       "start_time                       0\n",
       "end_time                         0\n",
       "start_station_id             80734\n",
       "start_station_name           80133\n",
       "start_station_latitude           0\n",
       "start_station_longitude          0\n",
       "end_station_id               82902\n",
       "end_station_name             82350\n",
       "end_station_latitude             0\n",
       "end_station_longitude            0\n",
       "bike_id                          0\n",
       "user_type                        0\n",
       "bike_share_for_all_trip     243259\n",
       "rental_access_method       2386145\n",
       "dtype: int64"
      ]
     },
     "execution_count": 31,
     "metadata": {},
     "output_type": "execute_result"
    }
   ],
   "source": [
    "# Verify values nulls\n",
    "df_baywheels.isnull().sum()"
   ]
  },
  {
   "cell_type": "code",
   "execution_count": 33,
   "metadata": {},
   "outputs": [
    {
     "data": {
      "text/plain": [
       "duration_sec                0.000000\n",
       "start_time                  0.000000\n",
       "end_time                    0.000000\n",
       "start_station_id            3.220365\n",
       "start_station_name          3.196392\n",
       "start_station_latitude      0.000000\n",
       "start_station_longitude     0.000000\n",
       "end_station_id              3.306843\n",
       "end_station_name            3.284825\n",
       "end_station_latitude        0.000000\n",
       "end_station_longitude       0.000000\n",
       "bike_id                     0.000000\n",
       "user_type                   0.000000\n",
       "bike_share_for_all_trip     9.703257\n",
       "rental_access_method       95.179943\n",
       "dtype: float64"
      ]
     },
     "execution_count": 33,
     "metadata": {},
     "output_type": "execute_result"
    }
   ],
   "source": [
    "# Verify values nulls in percent\n",
    "(df_baywheels.isnull().sum() / df_baywheels.shape[0]) * 100"
   ]
  },
  {
   "cell_type": "code",
   "execution_count": 37,
   "metadata": {},
   "outputs": [
    {
     "data": {
      "text/plain": [
       "58.0     45058\n",
       "81.0     42962\n",
       "30.0     40302\n",
       "15.0     39016\n",
       "67.0     36576\n",
       "         ...  \n",
       "429.0        4\n",
       "329.0        3\n",
       "444.0        3\n",
       "484.0        2\n",
       "420.0        1\n",
       "Name: start_station_id, Length: 436, dtype: int64"
      ]
     },
     "execution_count": 37,
     "metadata": {},
     "output_type": "execute_result"
    }
   ],
   "source": [
    "# Verify values in column\n",
    "df_baywheels['start_station_id'].value_counts()"
   ]
  },
  {
   "cell_type": "code",
   "execution_count": 38,
   "metadata": {},
   "outputs": [
    {
     "data": {
      "text/plain": [
       "Market St at 10th St                                         45058\n",
       "Berry St at 4th St                                           42962\n",
       "San Francisco Caltrain (Townsend St at 4th St)               40302\n",
       "San Francisco Ferry Building (Harry Bridges Plaza)           39016\n",
       "San Francisco Caltrain Station 2  (Townsend St at 4th St)    36576\n",
       "                                                             ...  \n",
       "Prototype Lab                                                    4\n",
       "San Jose Depot                                                   3\n",
       "Mercado Way at Sierra Rd                                         3\n",
       "Philly Demo                                                      2\n",
       "SF Test Station                                                  1\n",
       "Name: start_station_name, Length: 446, dtype: int64"
      ]
     },
     "execution_count": 38,
     "metadata": {},
     "output_type": "execute_result"
    }
   ],
   "source": [
    "# Verify values in column\n",
    "df_baywheels['start_station_name'].value_counts()"
   ]
  },
  {
   "cell_type": "code",
   "execution_count": 43,
   "metadata": {},
   "outputs": [
    {
     "data": {
      "text/plain": [
       "67.0     52146\n",
       "30.0     50943\n",
       "15.0     48180\n",
       "21.0     47886\n",
       "58.0     44284\n",
       "         ...  \n",
       "428.0        4\n",
       "444.0        4\n",
       "484.0        2\n",
       "329.0        2\n",
       "65.0         1\n",
       "Name: end_station_id, Length: 436, dtype: int64"
      ]
     },
     "execution_count": 43,
     "metadata": {},
     "output_type": "execute_result"
    }
   ],
   "source": [
    "# Verify values in column\n",
    "df_baywheels['end_station_id'].value_counts()"
   ]
  },
  {
   "cell_type": "code",
   "execution_count": 44,
   "metadata": {},
   "outputs": [
    {
     "data": {
      "text/plain": [
       "San Francisco Caltrain Station 2  (Townsend St at 4th St)    52146\n",
       "San Francisco Caltrain (Townsend St at 4th St)               50943\n",
       "San Francisco Ferry Building (Harry Bridges Plaza)           48180\n",
       "Montgomery St BART Station (Market St at 2nd St)             47886\n",
       "Market St at 10th St                                         44284\n",
       "                                                             ...  \n",
       "Howard workshop - Station in a Box                               4\n",
       "Prototype Lab                                                    4\n",
       "Philly Demo                                                      2\n",
       "San Jose Depot                                                   2\n",
       "Emeryville Depot                                                 1\n",
       "Name: end_station_name, Length: 446, dtype: int64"
      ]
     },
     "execution_count": 44,
     "metadata": {},
     "output_type": "execute_result"
    }
   ],
   "source": [
    "# Verify values in column\n",
    "df_baywheels['end_station_name'].value_counts()"
   ]
  },
  {
   "cell_type": "code",
   "execution_count": 39,
   "metadata": {},
   "outputs": [
    {
     "data": {
      "text/plain": [
       "Subscriber    2021166\n",
       "Customer       485817\n",
       "Name: user_type, dtype: int64"
      ]
     },
     "execution_count": 39,
     "metadata": {},
     "output_type": "execute_result"
    }
   ],
   "source": [
    "# Verify values in column\n",
    "df_baywheels['user_type'].value_counts()"
   ]
  },
  {
   "cell_type": "code",
   "execution_count": 40,
   "metadata": {},
   "outputs": [
    {
     "data": {
      "text/plain": [
       "No     2086152\n",
       "Yes     177572\n",
       "Name: bike_share_for_all_trip, dtype: int64"
      ]
     },
     "execution_count": 40,
     "metadata": {},
     "output_type": "execute_result"
    }
   ],
   "source": [
    "# Verify values in column\n",
    "df_baywheels['bike_share_for_all_trip'].value_counts()"
   ]
  },
  {
   "cell_type": "code",
   "execution_count": 41,
   "metadata": {},
   "outputs": [
    {
     "data": {
      "text/plain": [
       "3135      912\n",
       "3146      911\n",
       "3569      889\n",
       "3249      882\n",
       "1502      882\n",
       "         ... \n",
       "3973        1\n",
       "655034      1\n",
       "92          1\n",
       "3214        1\n",
       "6271        1\n",
       "Name: bike_id, Length: 11070, dtype: int64"
      ]
     },
     "execution_count": 41,
     "metadata": {},
     "output_type": "execute_result"
    }
   ],
   "source": [
    "# Verify values in column\n",
    "df_baywheels['bike_id'].value_counts()"
   ]
  },
  {
   "cell_type": "code",
   "execution_count": 45,
   "metadata": {},
   "outputs": [
    {
     "data": {
      "text/plain": [
       "app        108010\n",
       "clipper     12828\n",
       "Name: rental_access_method, dtype: int64"
      ]
     },
     "execution_count": 45,
     "metadata": {},
     "output_type": "execute_result"
    }
   ],
   "source": [
    "# Verify values in column\n",
    "df_baywheels['rental_access_method'].value_counts()"
   ]
  },
  {
   "cell_type": "code",
   "execution_count": 214,
   "metadata": {},
   "outputs": [
    {
     "data": {
      "text/plain": [
       "count    2.506983e+06\n",
       "mean     8.076483e+02\n",
       "std      1.974714e+03\n",
       "min      6.000000e+01\n",
       "50%      5.710000e+02\n",
       "98%      2.674000e+03\n",
       "max      9.121100e+05\n",
       "Name: duration_sec, dtype: float64"
      ]
     },
     "execution_count": 214,
     "metadata": {},
     "output_type": "execute_result"
    }
   ],
   "source": [
    "df_baywheels['duration_sec'].describe(percentiles=[.98])"
   ]
  },
  {
   "cell_type": "markdown",
   "metadata": {},
   "source": [
    "### Quality Issues\n",
    "- Erroneous datatypes in `start_time`, `end_time` and `user_type`.\n",
    "- Nulls values in columns in `start_station_id`, `start_station_name`, `end_station_id`, `end_station_name`, `bike_share_for_all_trip` and `rental_access_method`.\n",
    "- Outliers found in the column `duration_sec`.\n",
    "\n",
    "### Tidiness Issues\n",
    "- Individual columns are missing for **hour** values, **weekday name**, **month name** and **duration in minute**.\n",
    "- Dataset not ordered by date.\n",
    "- Columns that will not be used"
   ]
  },
  {
   "cell_type": "markdown",
   "metadata": {},
   "source": [
    "<a id='cleaning'></a>\n",
    "## Cleaning Data"
   ]
  },
  {
   "cell_type": "code",
   "execution_count": 353,
   "metadata": {},
   "outputs": [],
   "source": [
    "# Create copy of dataset\n",
    "df_baywheels_clean = df_baywheels.copy()"
   ]
  },
  {
   "cell_type": "markdown",
   "metadata": {},
   "source": [
    "### Quality Issues\n",
    "#### Nulls values in columns in `start_station_id`, `start_station_name`, `end_station_id`, `end_station_name`, `bike_share_for_all_trip` and `rental_access_method`.\n",
    "\n",
    "#####  Define\n",
    "Delete columns `start_station_id`, `end_station_id` and `bike_share_for_all_trip` because I will not use them.\n",
    "\n",
    "Delete column `rental_access_method` because it have 95% of values as null.\n",
    "\n",
    "Delete rows in `start_station_name` and `end_station_name` because it only have 3% of values as null.\n",
    "\n",
    "##### Code"
   ]
  },
  {
   "cell_type": "code",
   "execution_count": 354,
   "metadata": {},
   "outputs": [],
   "source": [
    "# Drop columns \"start_station_id\", \"end_station_id\", \"bike_share_for_all_trip\" and \"rental_access_method\"\n",
    "df_baywheels_clean = df_baywheels_clean.drop(['start_station_id', 'end_station_id', 'bike_share_for_all_trip', 'rental_access_method'], axis=1)"
   ]
  },
  {
   "cell_type": "code",
   "execution_count": 355,
   "metadata": {},
   "outputs": [],
   "source": [
    "# Drop rows in start_station_name and end_station_name\n",
    "df_baywheels_clean = df_baywheels_clean[~((df_baywheels_clean['start_station_name'].isnull()) | df_baywheels_clean['end_station_name'].isnull())]"
   ]
  },
  {
   "cell_type": "markdown",
   "metadata": {},
   "source": [
    "##### Test"
   ]
  },
  {
   "cell_type": "code",
   "execution_count": 356,
   "metadata": {},
   "outputs": [
    {
     "data": {
      "text/plain": [
       "duration_sec               0\n",
       "start_time                 0\n",
       "end_time                   0\n",
       "start_station_name         0\n",
       "start_station_latitude     0\n",
       "start_station_longitude    0\n",
       "end_station_name           0\n",
       "end_station_latitude       0\n",
       "end_station_longitude      0\n",
       "bike_id                    0\n",
       "user_type                  0\n",
       "dtype: int64"
      ]
     },
     "execution_count": 356,
     "metadata": {},
     "output_type": "execute_result"
    }
   ],
   "source": [
    "# Verify nulls values\n",
    "df_baywheels_clean.isnull().sum()"
   ]
  },
  {
   "cell_type": "code",
   "execution_count": 357,
   "metadata": {},
   "outputs": [
    {
     "name": "stdout",
     "output_type": "stream",
     "text": [
      "<class 'pandas.core.frame.DataFrame'>\n",
      "Int64Index: 2407907 entries, 0 to 2506982\n",
      "Data columns (total 11 columns):\n",
      " #   Column                   Dtype  \n",
      "---  ------                   -----  \n",
      " 0   duration_sec             int64  \n",
      " 1   start_time               object \n",
      " 2   end_time                 object \n",
      " 3   start_station_name       object \n",
      " 4   start_station_latitude   float64\n",
      " 5   start_station_longitude  float64\n",
      " 6   end_station_name         object \n",
      " 7   end_station_latitude     float64\n",
      " 8   end_station_longitude    float64\n",
      " 9   bike_id                  int64  \n",
      " 10  user_type                object \n",
      "dtypes: float64(4), int64(2), object(5)\n",
      "memory usage: 220.5+ MB\n"
     ]
    }
   ],
   "source": [
    "# Verify info\n",
    "df_baywheels_clean.info()"
   ]
  },
  {
   "cell_type": "markdown",
   "metadata": {},
   "source": [
    "#### Erroneous datatypes in `start_time`, `end_time` and `user_type`.\n",
    "\n",
    "#####  Define\n",
    "Set datatype in `start_time` and `end_time` to **datetime**, and in `user_type` to **categorical**.\n",
    "\n",
    "##### Code"
   ]
  },
  {
   "cell_type": "code",
   "execution_count": 358,
   "metadata": {},
   "outputs": [],
   "source": [
    "# Set datatype in start_time and end_time to datetime \n",
    "df_baywheels_clean['start_time'] = pd.to_datetime(df_baywheels_clean['start_time'])\n",
    "df_baywheels_clean['end_time'] = pd.to_datetime(df_baywheels_clean['end_time'])"
   ]
  },
  {
   "cell_type": "code",
   "execution_count": 359,
   "metadata": {},
   "outputs": [],
   "source": [
    "# Set \"user_type\" as category type\n",
    "df_baywheels_clean['user_type'] = df_baywheels_clean['user_type'].astype('category')"
   ]
  },
  {
   "cell_type": "markdown",
   "metadata": {},
   "source": [
    "##### Test"
   ]
  },
  {
   "cell_type": "code",
   "execution_count": 360,
   "metadata": {},
   "outputs": [
    {
     "name": "stdout",
     "output_type": "stream",
     "text": [
      "<class 'pandas.core.frame.DataFrame'>\n",
      "Int64Index: 2407907 entries, 0 to 2506982\n",
      "Data columns (total 11 columns):\n",
      " #   Column                   Dtype         \n",
      "---  ------                   -----         \n",
      " 0   duration_sec             int64         \n",
      " 1   start_time               datetime64[ns]\n",
      " 2   end_time                 datetime64[ns]\n",
      " 3   start_station_name       object        \n",
      " 4   start_station_latitude   float64       \n",
      " 5   start_station_longitude  float64       \n",
      " 6   end_station_name         object        \n",
      " 7   end_station_latitude     float64       \n",
      " 8   end_station_longitude    float64       \n",
      " 9   bike_id                  int64         \n",
      " 10  user_type                category      \n",
      "dtypes: category(1), datetime64[ns](2), float64(4), int64(2), object(2)\n",
      "memory usage: 204.4+ MB\n"
     ]
    }
   ],
   "source": [
    "# Verify info\n",
    "df_baywheels_clean.info()"
   ]
  },
  {
   "cell_type": "markdown",
   "metadata": {},
   "source": [
    "#### Outliers found in the column `duration_sec`.\n",
    "\n",
    "#####  Define\n",
    "Drop rows that are above 98 percentile values.\n",
    "\n",
    "##### Code"
   ]
  },
  {
   "cell_type": "code",
   "execution_count": 361,
   "metadata": {},
   "outputs": [],
   "source": [
    "# Drop rows that are above 98 percentile values.\n",
    "df_baywheels_clean = df_baywheels_clean[~(df_baywheels_clean['duration_sec'] >= df_baywheels_clean['duration_sec'].describe(percentiles=[.98])['98%'])]"
   ]
  },
  {
   "cell_type": "markdown",
   "metadata": {},
   "source": [
    "##### Test"
   ]
  },
  {
   "cell_type": "code",
   "execution_count": 362,
   "metadata": {},
   "outputs": [
    {
     "data": {
      "text/plain": [
       "count    2.359710e+06\n",
       "mean     6.648729e+02\n",
       "std      4.312914e+02\n",
       "min      6.000000e+01\n",
       "25%      3.550000e+02\n",
       "50%      5.600000e+02\n",
       "75%      8.570000e+02\n",
       "max      2.640000e+03\n",
       "Name: duration_sec, dtype: float64"
      ]
     },
     "execution_count": 362,
     "metadata": {},
     "output_type": "execute_result"
    }
   ],
   "source": [
    "# Verify describe\n",
    "df_baywheels_clean['duration_sec'].describe()"
   ]
  },
  {
   "cell_type": "markdown",
   "metadata": {},
   "source": [
    "### Tidiness Issues\n",
    "#### Individual columns are missing for **hour** values, **weekday name**, **month name** and **duration in minute**.\n",
    "\n",
    "#####  Define\n",
    "Create columns `start_time_hour`, `end_time_hour`, `time_day_of_week`, `time_month` and `duration_minute`.\n",
    "\n",
    "##### Code"
   ]
  },
  {
   "cell_type": "code",
   "execution_count": 363,
   "metadata": {},
   "outputs": [],
   "source": [
    "# Create columns \"start_time_hour\", \"end_time_hour\", \"time_day_of_week\", \"time_month\", \"duration_minute\" and \"time_week_type\"\n",
    "df_baywheels_clean['start_time_hour'] = df_baywheels_clean['start_time'].dt.hour # Get hour\n",
    "df_baywheels_clean['end_time_hour'] = df_baywheels_clean['end_time'].dt.hour # Get hour\n",
    "df_baywheels_clean['time_day_of_week'] = df_baywheels_clean['start_time'].dt.day_name() # Get day of week name\n",
    "df_baywheels_clean['time_month'] = df_baywheels_clean['start_time'].dt.month_name() # Get month name\n",
    "df_baywheels_clean['duration_minute'] = df_baywheels_clean['duration_sec'].apply(lambda x: round(x / 60, 2)) # Transform second to minute"
   ]
  },
  {
   "cell_type": "code",
   "execution_count": 364,
   "metadata": {},
   "outputs": [],
   "source": [
    "# Set \"time_week_type\" as category type and ordered\n",
    "day_of_week = ['Monday', 'Tuesday', 'Wednesday', 'Thursday', 'Friday', 'Saturday', 'Sunday']\n",
    "day_of_week_classes = pd.api.types.CategoricalDtype(ordered = True, categories = day_of_week)\n",
    "df_baywheels_clean['time_day_of_week'] = df_baywheels_clean['time_day_of_week'].astype(day_of_week_classes)"
   ]
  },
  {
   "cell_type": "code",
   "execution_count": 365,
   "metadata": {},
   "outputs": [],
   "source": [
    "# Set \"time_month\" as category type and ordered\n",
    "month_name = ['January', 'February', 'March', 'April', 'May', 'June', 'July', 'August', 'September', 'October', 'November', 'December']\n",
    "month_name_classes = pd.api.types.CategoricalDtype(ordered = True, categories = month_name)\n",
    "df_baywheels_clean['time_month'] = df_baywheels_clean['time_month'].astype(month_name_classes)"
   ]
  },
  {
   "cell_type": "markdown",
   "metadata": {},
   "source": [
    "##### Test"
   ]
  },
  {
   "cell_type": "code",
   "execution_count": 366,
   "metadata": {},
   "outputs": [
    {
     "name": "stdout",
     "output_type": "stream",
     "text": [
      "<class 'pandas.core.frame.DataFrame'>\n",
      "Int64Index: 2359710 entries, 3 to 2506982\n",
      "Data columns (total 16 columns):\n",
      " #   Column                   Dtype         \n",
      "---  ------                   -----         \n",
      " 0   duration_sec             int64         \n",
      " 1   start_time               datetime64[ns]\n",
      " 2   end_time                 datetime64[ns]\n",
      " 3   start_station_name       object        \n",
      " 4   start_station_latitude   float64       \n",
      " 5   start_station_longitude  float64       \n",
      " 6   end_station_name         object        \n",
      " 7   end_station_latitude     float64       \n",
      " 8   end_station_longitude    float64       \n",
      " 9   bike_id                  int64         \n",
      " 10  user_type                category      \n",
      " 11  start_time_hour          int64         \n",
      " 12  end_time_hour            int64         \n",
      " 13  time_day_of_week         category      \n",
      " 14  time_month               category      \n",
      " 15  duration_minute          float64       \n",
      "dtypes: category(3), datetime64[ns](2), float64(5), int64(4), object(2)\n",
      "memory usage: 258.8+ MB\n"
     ]
    }
   ],
   "source": [
    "# Verify info\n",
    "df_baywheels_clean.info()"
   ]
  },
  {
   "cell_type": "code",
   "execution_count": 367,
   "metadata": {},
   "outputs": [
    {
     "data": {
      "text/plain": [
       "17    284277\n",
       "8     270658\n",
       "18    222945\n",
       "9     207776\n",
       "16    181175\n",
       "7     136951\n",
       "19    135980\n",
       "15    113721\n",
       "12    103602\n",
       "10    102458\n",
       "13    100840\n",
       "14     97217\n",
       "11     94158\n",
       "20     86195\n",
       "21     60732\n",
       "6      51316\n",
       "22     41254\n",
       "23     24297\n",
       "0      13323\n",
       "5      12669\n",
       "1       7765\n",
       "2       4934\n",
       "4       3113\n",
       "3       2354\n",
       "Name: start_time_hour, dtype: int64"
      ]
     },
     "execution_count": 367,
     "metadata": {},
     "output_type": "execute_result"
    }
   ],
   "source": [
    "# Verify values in column\n",
    "df_baywheels_clean['start_time_hour'].value_counts()"
   ]
  },
  {
   "cell_type": "code",
   "execution_count": 368,
   "metadata": {},
   "outputs": [
    {
     "data": {
      "text/plain": [
       "17    273738\n",
       "8     253882\n",
       "18    240422\n",
       "9     231968\n",
       "16    167255\n",
       "19    148952\n",
       "7     114720\n",
       "10    111240\n",
       "15    107045\n",
       "12    102863\n",
       "13    101817\n",
       "14     96652\n",
       "20     93560\n",
       "11     91643\n",
       "21     64527\n",
       "22     44811\n",
       "6      43109\n",
       "23     26932\n",
       "0      14704\n",
       "5      10612\n",
       "1       8200\n",
       "2       5655\n",
       "4       3021\n",
       "3       2382\n",
       "Name: end_time_hour, dtype: int64"
      ]
     },
     "execution_count": 368,
     "metadata": {},
     "output_type": "execute_result"
    }
   ],
   "source": [
    "# Verify values in column\n",
    "df_baywheels_clean['end_time_hour'].value_counts()"
   ]
  },
  {
   "cell_type": "code",
   "execution_count": 369,
   "metadata": {},
   "outputs": [
    {
     "data": {
      "text/plain": [
       "Thursday     406452\n",
       "Tuesday      405317\n",
       "Wednesday    396234\n",
       "Friday       376000\n",
       "Monday       374796\n",
       "Saturday     210503\n",
       "Sunday       190408\n",
       "Name: time_day_of_week, dtype: int64"
      ]
     },
     "execution_count": 369,
     "metadata": {},
     "output_type": "execute_result"
    }
   ],
   "source": [
    "# Verify values in column\n",
    "df_baywheels_clean['time_day_of_week'].value_counts()"
   ]
  },
  {
   "cell_type": "code",
   "execution_count": 370,
   "metadata": {},
   "outputs": [
    {
     "data": {
      "text/plain": [
       "March        249922\n",
       "October      235380\n",
       "April        234209\n",
       "September    213155\n",
       "August       206042\n",
       "January      188058\n",
       "June         184976\n",
       "July         183800\n",
       "November     181269\n",
       "February     180336\n",
       "May          178972\n",
       "December     123591\n",
       "Name: time_month, dtype: int64"
      ]
     },
     "execution_count": 370,
     "metadata": {},
     "output_type": "execute_result"
    }
   ],
   "source": [
    "# Verify values in column\n",
    "df_baywheels_clean['time_month'].value_counts()"
   ]
  },
  {
   "cell_type": "code",
   "execution_count": 371,
   "metadata": {},
   "outputs": [
    {
     "data": {
      "text/plain": [
       "5.65     3179\n",
       "6.20     3156\n",
       "6.17     3146\n",
       "5.40     3139\n",
       "6.38     3132\n",
       "         ... \n",
       "43.08      31\n",
       "42.98      29\n",
       "43.95      28\n",
       "43.98      23\n",
       "1.00        4\n",
       "Name: duration_minute, Length: 2581, dtype: int64"
      ]
     },
     "execution_count": 371,
     "metadata": {},
     "output_type": "execute_result"
    }
   ],
   "source": [
    "# Verify values in column\n",
    "df_baywheels_clean['duration_minute'].value_counts()"
   ]
  },
  {
   "cell_type": "markdown",
   "metadata": {},
   "source": [
    "#### Dataset not ordered by date.\n",
    "\n",
    "#####  Define\n",
    "Sort dataset by column `start_time`.\n",
    "\n",
    "##### Code"
   ]
  },
  {
   "cell_type": "code",
   "execution_count": 372,
   "metadata": {},
   "outputs": [],
   "source": [
    "# Sorted dateset by column \"start_time\"\n",
    "df_baywheels_clean = df_baywheels_clean.sort_values(by=['start_time']).reset_index(drop=True)"
   ]
  },
  {
   "cell_type": "markdown",
   "metadata": {},
   "source": [
    "##### Test"
   ]
  },
  {
   "cell_type": "code",
   "execution_count": 373,
   "metadata": {},
   "outputs": [
    {
     "data": {
      "text/html": [
       "<div>\n",
       "<style scoped>\n",
       "    .dataframe tbody tr th:only-of-type {\n",
       "        vertical-align: middle;\n",
       "    }\n",
       "\n",
       "    .dataframe tbody tr th {\n",
       "        vertical-align: top;\n",
       "    }\n",
       "\n",
       "    .dataframe thead th {\n",
       "        text-align: right;\n",
       "    }\n",
       "</style>\n",
       "<table border=\"1\" class=\"dataframe\">\n",
       "  <thead>\n",
       "    <tr style=\"text-align: right;\">\n",
       "      <th></th>\n",
       "      <th>duration_sec</th>\n",
       "      <th>start_time</th>\n",
       "      <th>end_time</th>\n",
       "      <th>start_station_name</th>\n",
       "      <th>start_station_latitude</th>\n",
       "      <th>start_station_longitude</th>\n",
       "      <th>end_station_name</th>\n",
       "      <th>end_station_latitude</th>\n",
       "      <th>end_station_longitude</th>\n",
       "      <th>bike_id</th>\n",
       "      <th>user_type</th>\n",
       "      <th>start_time_hour</th>\n",
       "      <th>end_time_hour</th>\n",
       "      <th>time_day_of_week</th>\n",
       "      <th>time_month</th>\n",
       "      <th>duration_minute</th>\n",
       "    </tr>\n",
       "  </thead>\n",
       "  <tbody>\n",
       "    <tr>\n",
       "      <th>0</th>\n",
       "      <td>226</td>\n",
       "      <td>2019-01-01 00:07:10.576</td>\n",
       "      <td>2019-01-01 00:10:57.196</td>\n",
       "      <td>Downtown Berkeley BART</td>\n",
       "      <td>37.870139</td>\n",
       "      <td>-122.268422</td>\n",
       "      <td>Fulton St at Bancroft Way</td>\n",
       "      <td>37.867789</td>\n",
       "      <td>-122.265896</td>\n",
       "      <td>5117</td>\n",
       "      <td>Customer</td>\n",
       "      <td>0</td>\n",
       "      <td>0</td>\n",
       "      <td>Tuesday</td>\n",
       "      <td>January</td>\n",
       "      <td>3.77</td>\n",
       "    </tr>\n",
       "    <tr>\n",
       "      <th>1</th>\n",
       "      <td>1767</td>\n",
       "      <td>2019-01-01 00:08:39.659</td>\n",
       "      <td>2019-01-01 00:38:06.848</td>\n",
       "      <td>Steuart St at Market St</td>\n",
       "      <td>37.794130</td>\n",
       "      <td>-122.394430</td>\n",
       "      <td>Jackson Playground</td>\n",
       "      <td>37.765026</td>\n",
       "      <td>-122.398773</td>\n",
       "      <td>1705</td>\n",
       "      <td>Customer</td>\n",
       "      <td>0</td>\n",
       "      <td>0</td>\n",
       "      <td>Tuesday</td>\n",
       "      <td>January</td>\n",
       "      <td>29.45</td>\n",
       "    </tr>\n",
       "    <tr>\n",
       "      <th>2</th>\n",
       "      <td>182</td>\n",
       "      <td>2019-01-01 00:09:56.211</td>\n",
       "      <td>2019-01-01 00:12:58.748</td>\n",
       "      <td>Telegraph Ave at Carleton St</td>\n",
       "      <td>37.862320</td>\n",
       "      <td>-122.258801</td>\n",
       "      <td>Haste St at Telegraph Ave</td>\n",
       "      <td>37.866043</td>\n",
       "      <td>-122.258804</td>\n",
       "      <td>4621</td>\n",
       "      <td>Subscriber</td>\n",
       "      <td>0</td>\n",
       "      <td>0</td>\n",
       "      <td>Tuesday</td>\n",
       "      <td>January</td>\n",
       "      <td>3.03</td>\n",
       "    </tr>\n",
       "    <tr>\n",
       "      <th>3</th>\n",
       "      <td>565</td>\n",
       "      <td>2019-01-01 00:11:03.441</td>\n",
       "      <td>2019-01-01 00:20:29.268</td>\n",
       "      <td>Telegraph Ave at Carleton St</td>\n",
       "      <td>37.862320</td>\n",
       "      <td>-122.258801</td>\n",
       "      <td>Bancroft Way at College Ave</td>\n",
       "      <td>37.869360</td>\n",
       "      <td>-122.254337</td>\n",
       "      <td>4783</td>\n",
       "      <td>Subscriber</td>\n",
       "      <td>0</td>\n",
       "      <td>0</td>\n",
       "      <td>Tuesday</td>\n",
       "      <td>January</td>\n",
       "      <td>9.42</td>\n",
       "    </tr>\n",
       "    <tr>\n",
       "      <th>4</th>\n",
       "      <td>710</td>\n",
       "      <td>2019-01-01 00:14:48.398</td>\n",
       "      <td>2019-01-01 00:26:38.421</td>\n",
       "      <td>Lake Merritt BART Station</td>\n",
       "      <td>37.797320</td>\n",
       "      <td>-122.265320</td>\n",
       "      <td>24th St at Market St</td>\n",
       "      <td>37.816060</td>\n",
       "      <td>-122.278244</td>\n",
       "      <td>4892</td>\n",
       "      <td>Customer</td>\n",
       "      <td>0</td>\n",
       "      <td>0</td>\n",
       "      <td>Tuesday</td>\n",
       "      <td>January</td>\n",
       "      <td>11.83</td>\n",
       "    </tr>\n",
       "    <tr>\n",
       "      <th>...</th>\n",
       "      <td>...</td>\n",
       "      <td>...</td>\n",
       "      <td>...</td>\n",
       "      <td>...</td>\n",
       "      <td>...</td>\n",
       "      <td>...</td>\n",
       "      <td>...</td>\n",
       "      <td>...</td>\n",
       "      <td>...</td>\n",
       "      <td>...</td>\n",
       "      <td>...</td>\n",
       "      <td>...</td>\n",
       "      <td>...</td>\n",
       "      <td>...</td>\n",
       "      <td>...</td>\n",
       "      <td>...</td>\n",
       "    </tr>\n",
       "    <tr>\n",
       "      <th>2359705</th>\n",
       "      <td>1275</td>\n",
       "      <td>2019-12-31 23:56:05.939</td>\n",
       "      <td>2020-01-01 00:17:21.935</td>\n",
       "      <td>Cruise Terminal at Pier 27</td>\n",
       "      <td>37.804223</td>\n",
       "      <td>-122.401643</td>\n",
       "      <td>Embarcadero BART Station (Beale St at Market St)</td>\n",
       "      <td>37.792251</td>\n",
       "      <td>-122.397086</td>\n",
       "      <td>9829</td>\n",
       "      <td>Customer</td>\n",
       "      <td>23</td>\n",
       "      <td>0</td>\n",
       "      <td>Tuesday</td>\n",
       "      <td>December</td>\n",
       "      <td>21.25</td>\n",
       "    </tr>\n",
       "    <tr>\n",
       "      <th>2359706</th>\n",
       "      <td>782</td>\n",
       "      <td>2019-12-31 23:56:34.462</td>\n",
       "      <td>2020-01-01 00:09:36.705</td>\n",
       "      <td>The Embarcadero at Steuart St</td>\n",
       "      <td>37.791464</td>\n",
       "      <td>-122.391034</td>\n",
       "      <td>The Embarcadero at Steuart St</td>\n",
       "      <td>37.791464</td>\n",
       "      <td>-122.391034</td>\n",
       "      <td>11683</td>\n",
       "      <td>Customer</td>\n",
       "      <td>23</td>\n",
       "      <td>0</td>\n",
       "      <td>Tuesday</td>\n",
       "      <td>December</td>\n",
       "      <td>13.03</td>\n",
       "    </tr>\n",
       "    <tr>\n",
       "      <th>2359707</th>\n",
       "      <td>781</td>\n",
       "      <td>2019-12-31 23:56:40.324</td>\n",
       "      <td>2020-01-01 00:09:41.545</td>\n",
       "      <td>The Embarcadero at Steuart St</td>\n",
       "      <td>37.791464</td>\n",
       "      <td>-122.391034</td>\n",
       "      <td>The Embarcadero at Steuart St</td>\n",
       "      <td>37.791464</td>\n",
       "      <td>-122.391034</td>\n",
       "      <td>11020</td>\n",
       "      <td>Customer</td>\n",
       "      <td>23</td>\n",
       "      <td>0</td>\n",
       "      <td>Tuesday</td>\n",
       "      <td>December</td>\n",
       "      <td>13.02</td>\n",
       "    </tr>\n",
       "    <tr>\n",
       "      <th>2359708</th>\n",
       "      <td>185</td>\n",
       "      <td>2019-12-31 23:57:01.551</td>\n",
       "      <td>2020-01-01 00:00:07.494</td>\n",
       "      <td>San Francisco Public Library (Grove St at Hyde...</td>\n",
       "      <td>37.778768</td>\n",
       "      <td>-122.415929</td>\n",
       "      <td>Market St at Franklin St</td>\n",
       "      <td>37.773793</td>\n",
       "      <td>-122.421239</td>\n",
       "      <td>12734</td>\n",
       "      <td>Customer</td>\n",
       "      <td>23</td>\n",
       "      <td>0</td>\n",
       "      <td>Tuesday</td>\n",
       "      <td>December</td>\n",
       "      <td>3.08</td>\n",
       "    </tr>\n",
       "    <tr>\n",
       "      <th>2359709</th>\n",
       "      <td>1050</td>\n",
       "      <td>2019-12-31 23:59:37.206</td>\n",
       "      <td>2020-01-01 00:17:08.188</td>\n",
       "      <td>Willow St at Blewett Ave</td>\n",
       "      <td>37.309014</td>\n",
       "      <td>-121.900011</td>\n",
       "      <td>Pierce Ave at Market St</td>\n",
       "      <td>37.327581</td>\n",
       "      <td>-121.884559</td>\n",
       "      <td>11448</td>\n",
       "      <td>Customer</td>\n",
       "      <td>23</td>\n",
       "      <td>0</td>\n",
       "      <td>Tuesday</td>\n",
       "      <td>December</td>\n",
       "      <td>17.50</td>\n",
       "    </tr>\n",
       "  </tbody>\n",
       "</table>\n",
       "<p>2359710 rows × 16 columns</p>\n",
       "</div>"
      ],
      "text/plain": [
       "         duration_sec              start_time                end_time  \\\n",
       "0                 226 2019-01-01 00:07:10.576 2019-01-01 00:10:57.196   \n",
       "1                1767 2019-01-01 00:08:39.659 2019-01-01 00:38:06.848   \n",
       "2                 182 2019-01-01 00:09:56.211 2019-01-01 00:12:58.748   \n",
       "3                 565 2019-01-01 00:11:03.441 2019-01-01 00:20:29.268   \n",
       "4                 710 2019-01-01 00:14:48.398 2019-01-01 00:26:38.421   \n",
       "...               ...                     ...                     ...   \n",
       "2359705          1275 2019-12-31 23:56:05.939 2020-01-01 00:17:21.935   \n",
       "2359706           782 2019-12-31 23:56:34.462 2020-01-01 00:09:36.705   \n",
       "2359707           781 2019-12-31 23:56:40.324 2020-01-01 00:09:41.545   \n",
       "2359708           185 2019-12-31 23:57:01.551 2020-01-01 00:00:07.494   \n",
       "2359709          1050 2019-12-31 23:59:37.206 2020-01-01 00:17:08.188   \n",
       "\n",
       "                                        start_station_name  \\\n",
       "0                                   Downtown Berkeley BART   \n",
       "1                                  Steuart St at Market St   \n",
       "2                             Telegraph Ave at Carleton St   \n",
       "3                             Telegraph Ave at Carleton St   \n",
       "4                                Lake Merritt BART Station   \n",
       "...                                                    ...   \n",
       "2359705                         Cruise Terminal at Pier 27   \n",
       "2359706                      The Embarcadero at Steuart St   \n",
       "2359707                      The Embarcadero at Steuart St   \n",
       "2359708  San Francisco Public Library (Grove St at Hyde...   \n",
       "2359709                           Willow St at Blewett Ave   \n",
       "\n",
       "         start_station_latitude  start_station_longitude  \\\n",
       "0                     37.870139              -122.268422   \n",
       "1                     37.794130              -122.394430   \n",
       "2                     37.862320              -122.258801   \n",
       "3                     37.862320              -122.258801   \n",
       "4                     37.797320              -122.265320   \n",
       "...                         ...                      ...   \n",
       "2359705               37.804223              -122.401643   \n",
       "2359706               37.791464              -122.391034   \n",
       "2359707               37.791464              -122.391034   \n",
       "2359708               37.778768              -122.415929   \n",
       "2359709               37.309014              -121.900011   \n",
       "\n",
       "                                         end_station_name  \\\n",
       "0                               Fulton St at Bancroft Way   \n",
       "1                                      Jackson Playground   \n",
       "2                               Haste St at Telegraph Ave   \n",
       "3                             Bancroft Way at College Ave   \n",
       "4                                    24th St at Market St   \n",
       "...                                                   ...   \n",
       "2359705  Embarcadero BART Station (Beale St at Market St)   \n",
       "2359706                     The Embarcadero at Steuart St   \n",
       "2359707                     The Embarcadero at Steuart St   \n",
       "2359708                          Market St at Franklin St   \n",
       "2359709                           Pierce Ave at Market St   \n",
       "\n",
       "         end_station_latitude  end_station_longitude  bike_id   user_type  \\\n",
       "0                   37.867789            -122.265896     5117    Customer   \n",
       "1                   37.765026            -122.398773     1705    Customer   \n",
       "2                   37.866043            -122.258804     4621  Subscriber   \n",
       "3                   37.869360            -122.254337     4783  Subscriber   \n",
       "4                   37.816060            -122.278244     4892    Customer   \n",
       "...                       ...                    ...      ...         ...   \n",
       "2359705             37.792251            -122.397086     9829    Customer   \n",
       "2359706             37.791464            -122.391034    11683    Customer   \n",
       "2359707             37.791464            -122.391034    11020    Customer   \n",
       "2359708             37.773793            -122.421239    12734    Customer   \n",
       "2359709             37.327581            -121.884559    11448    Customer   \n",
       "\n",
       "         start_time_hour  end_time_hour time_day_of_week time_month  \\\n",
       "0                      0              0          Tuesday    January   \n",
       "1                      0              0          Tuesday    January   \n",
       "2                      0              0          Tuesday    January   \n",
       "3                      0              0          Tuesday    January   \n",
       "4                      0              0          Tuesday    January   \n",
       "...                  ...            ...              ...        ...   \n",
       "2359705               23              0          Tuesday   December   \n",
       "2359706               23              0          Tuesday   December   \n",
       "2359707               23              0          Tuesday   December   \n",
       "2359708               23              0          Tuesday   December   \n",
       "2359709               23              0          Tuesday   December   \n",
       "\n",
       "         duration_minute  \n",
       "0                   3.77  \n",
       "1                  29.45  \n",
       "2                   3.03  \n",
       "3                   9.42  \n",
       "4                  11.83  \n",
       "...                  ...  \n",
       "2359705            21.25  \n",
       "2359706            13.03  \n",
       "2359707            13.02  \n",
       "2359708             3.08  \n",
       "2359709            17.50  \n",
       "\n",
       "[2359710 rows x 16 columns]"
      ]
     },
     "execution_count": 373,
     "metadata": {},
     "output_type": "execute_result"
    }
   ],
   "source": [
    "# Verify dataset\n",
    "df_baywheels_clean"
   ]
  },
  {
   "cell_type": "code",
   "execution_count": 374,
   "metadata": {},
   "outputs": [
    {
     "name": "stdout",
     "output_type": "stream",
     "text": [
      "<class 'pandas.core.frame.DataFrame'>\n",
      "RangeIndex: 2359710 entries, 0 to 2359709\n",
      "Data columns (total 16 columns):\n",
      " #   Column                   Dtype         \n",
      "---  ------                   -----         \n",
      " 0   duration_sec             int64         \n",
      " 1   start_time               datetime64[ns]\n",
      " 2   end_time                 datetime64[ns]\n",
      " 3   start_station_name       object        \n",
      " 4   start_station_latitude   float64       \n",
      " 5   start_station_longitude  float64       \n",
      " 6   end_station_name         object        \n",
      " 7   end_station_latitude     float64       \n",
      " 8   end_station_longitude    float64       \n",
      " 9   bike_id                  int64         \n",
      " 10  user_type                category      \n",
      " 11  start_time_hour          int64         \n",
      " 12  end_time_hour            int64         \n",
      " 13  time_day_of_week         category      \n",
      " 14  time_month               category      \n",
      " 15  duration_minute          float64       \n",
      "dtypes: category(3), datetime64[ns](2), float64(5), int64(4), object(2)\n",
      "memory usage: 240.8+ MB\n"
     ]
    }
   ],
   "source": [
    "# Verify Info\n",
    "df_baywheels_clean.info()"
   ]
  },
  {
   "cell_type": "markdown",
   "metadata": {},
   "source": [
    "#### Columns that will not be used.\n",
    "\n",
    "#####  Define\n",
    "Drop columns `start_station_latitude`, `start_station_longitude`, `end_station_latitude`, `end_station_longitude` and `bike_id`.\n",
    "\n",
    "##### Code"
   ]
  },
  {
   "cell_type": "code",
   "execution_count": 375,
   "metadata": {},
   "outputs": [],
   "source": [
    "# Drop columns \"start_station_latitude\", \"start_station_longitude\", \"end_station_latitude\", \"end_station_longitude\" and \"bike_id\"\n",
    "df_baywheels_clean = df_baywheels_clean.drop(['start_station_latitude', 'start_station_longitude', 'end_station_latitude', 'end_station_longitude', 'bike_id'], axis=1)"
   ]
  },
  {
   "cell_type": "markdown",
   "metadata": {},
   "source": [
    "##### Test"
   ]
  },
  {
   "cell_type": "code",
   "execution_count": 376,
   "metadata": {},
   "outputs": [
    {
     "name": "stdout",
     "output_type": "stream",
     "text": [
      "<class 'pandas.core.frame.DataFrame'>\n",
      "RangeIndex: 2359710 entries, 0 to 2359709\n",
      "Data columns (total 11 columns):\n",
      " #   Column              Dtype         \n",
      "---  ------              -----         \n",
      " 0   duration_sec        int64         \n",
      " 1   start_time          datetime64[ns]\n",
      " 2   end_time            datetime64[ns]\n",
      " 3   start_station_name  object        \n",
      " 4   end_station_name    object        \n",
      " 5   user_type           category      \n",
      " 6   start_time_hour     int64         \n",
      " 7   end_time_hour       int64         \n",
      " 8   time_day_of_week    category      \n",
      " 9   time_month          category      \n",
      " 10  duration_minute     float64       \n",
      "dtypes: category(3), datetime64[ns](2), float64(1), int64(3), object(2)\n",
      "memory usage: 150.8+ MB\n"
     ]
    }
   ],
   "source": [
    "# Verify Info\n",
    "df_baywheels_clean.info()"
   ]
  },
  {
   "cell_type": "markdown",
   "metadata": {},
   "source": [
    "### Final Dataset"
   ]
  },
  {
   "cell_type": "code",
   "execution_count": 377,
   "metadata": {},
   "outputs": [],
   "source": [
    "# Copy de final dataset\n",
    "df_baywheels_final = df_baywheels_clean.copy()"
   ]
  },
  {
   "cell_type": "code",
   "execution_count": 378,
   "metadata": {},
   "outputs": [],
   "source": [
    "# Store final dateset\n",
    "df_baywheels_final.to_csv('./data/final/baywheels_final.csv', encoding='utf-8', index=False)"
   ]
  },
  {
   "cell_type": "markdown",
   "metadata": {},
   "source": [
    "<a id='analyzing'></a>\n",
    "## Analyzing and Visualizing Data"
   ]
  },
  {
   "cell_type": "markdown",
   "metadata": {},
   "source": [
    "### What is the structure of your dataset?\n",
    "\n",
    "The final (cleaned) dataset has 2300000+ bike rides that happen in 2019 in the San Francisco Bay Area and has 11 columns to be explored. The dataset contained features about:\n",
    "- duration_sec:\n",
    "    - How long the trip took in seconds.\n",
    "- duration_minute:\n",
    "    - How long the trip took in minute.\n",
    "- start_time:\n",
    "    - Start datetime for the bike rides.\n",
    "- end_time:\n",
    "    - End datetime for the bike rides.\n",
    "- start_station_name:\n",
    "    - Start station name.\n",
    "- end_station_name:\n",
    "    - End station name.\n",
    "- user_type:\n",
    "    - type of users\n",
    "- start_time_hour:\n",
    "    - Start hour for the bike rides.\n",
    "- end_time_hour:\n",
    "    - End hour for the bike rides.\n",
    "- time_day_of_week:\n",
    "    - Start day of week for the bike rides.\n",
    "- time_month:\n",
    "    - Start month for the bike rides.\n",
    "\n",
    "### What is/are the main feature(s) of interest in your dataset?\n",
    "\n",
    "I am interested in exploring the bike trip duration and quantity in relation to the features in the dataset.\n",
    "\n",
    "### What features in the dataset do you think will help support your investigation into your feature(s) of interest?\n",
    "\n",
    "I think that the `duration_minute`, `start_time`, `user_type`, `start_time_hour`, `time_day_of_week` and `time_month`."
   ]
  },
  {
   "cell_type": "markdown",
   "metadata": {},
   "source": [
    "## Univariate Exploration\n",
    "\n",
    "**I'll start by looking at the distribution of the main variable of interest: `duration_minute`.**"
   ]
  },
  {
   "cell_type": "code",
   "execution_count": 276,
   "metadata": {},
   "outputs": [
    {
     "data": {
      "image/png": "[encoded data removed]",
      "text/plain": [
       "<Figure size 720x576 with 1 Axes>"
      ]
     },
     "metadata": {
      "needs_background": "light"
     },
     "output_type": "display_data"
    }
   ],
   "source": [
    "# Duration of the bike rides in minutes\n",
    "plt.figure(figsize=(10, 8))\n",
    "binsize = 1\n",
    "bins = np.arange(0, df_baywheels_final['duration_minute'].max() + binsize, binsize)\n",
    "\n",
    "plt.hist(data = df_baywheels_final, x = 'duration_minute', bins = bins);\n",
    "\n",
    "plt.title(\"Bay Wheels System Trip Duration in Minutes\", fontsize=16, fontweight='bold')\n",
    "plt.xlabel('Duration (Minute)')\n",
    "plt.ylabel('Number of Bike Trips');"
   ]
  },
  {
   "cell_type": "markdown",
   "metadata": {},
   "source": [
    "We observed that it formed a graph with positively skewed, where the majority of the trips has duration between 5 and 10 minutes."
   ]
  },
  {
   "cell_type": "markdown",
   "metadata": {},
   "source": [
    "**Now I'll look to the distribution of datetime features**"
   ]
  },
  {
   "cell_type": "code",
   "execution_count": 275,
   "metadata": {},
   "outputs": [],
   "source": [
    "# Get palette color\n",
    "base_color = sb.color_palette()[0]"
   ]
  },
  {
   "cell_type": "code",
   "execution_count": 277,
   "metadata": {},
   "outputs": [
    {
     "data": {
      "image/png": "[encoded data removed]",
      "text/plain": [
       "<Figure size 720x576 with 1 Axes>"
      ]
     },
     "metadata": {
      "needs_background": "light"
     },
     "output_type": "display_data"
    }
   ],
   "source": [
    "# Plot distribution by \"start_time_hour\"\n",
    "plt.figure(figsize=(10, 8))\n",
    "sb.countplot(data = df_baywheels_final, x = 'start_time_hour', color = base_color);\n",
    "plt.title(\"Distribution Bike Trips by Hours\", fontsize=16, fontweight='bold')\n",
    "plt.xlabel('Hours')\n",
    "plt.ylabel('Number of Bike Trips');"
   ]
  },
  {
   "cell_type": "code",
   "execution_count": 278,
   "metadata": {},
   "outputs": [
    {
     "data": {
      "image/png": "[encoded data removed]",
      "text/plain": [
       "<Figure size 720x576 with 1 Axes>"
      ]
     },
     "metadata": {
      "needs_background": "light"
     },
     "output_type": "display_data"
    }
   ],
   "source": [
    "# Plot distribution by \"time_day_of_week\"\n",
    "plt.figure(figsize=(10, 8))\n",
    "sb.countplot(data = df_baywheels_final, x = 'time_day_of_week', color = base_color);\n",
    "plt.xticks(rotation=90)\n",
    "plt.title(\"Distribution Bike Trips by Day of Week\", fontsize=16, fontweight='bold')\n",
    "plt.xlabel('Day of Week')\n",
    "plt.ylabel('Number of Bike Trips');"
   ]
  },
  {
   "cell_type": "code",
   "execution_count": 279,
   "metadata": {},
   "outputs": [
    {
     "data": {
      "image/png": "[encoded data removed]",
      "text/plain": [
       "<Figure size 720x576 with 1 Axes>"
      ]
     },
     "metadata": {
      "needs_background": "light"
     },
     "output_type": "display_data"
    }
   ],
   "source": [
    "# Plot distribution by \"time_month\"\n",
    "plt.figure(figsize=(10, 8))\n",
    "sb.countplot(data = df_baywheels_final, x = 'time_month', color = base_color);\n",
    "plt.xticks(rotation=90)\n",
    "plt.title(\"Distribution Bike Trips by Months\", fontsize=16, fontweight='bold')\n",
    "plt.xlabel('Months')\n",
    "plt.ylabel('Number of Bike Trips');"
   ]
  },
  {
   "cell_type": "markdown",
   "metadata": {},
   "source": [
    "In the plot of time variables, some things stand out:\n",
    "- When we look at each hour, we see peak travel between 7 and 10 and other peak between 16 and 20;\n",
    "- When we look at the days of the week, we notice that from Monday to Friday we have most trips with peaks between Tuesday and Thursday and the minimums over the weekend.\n",
    "- When we look at the monthly level, we see that we have peaks in March and April, and then a big down in May, with a tendency of growth in May until another peak in October, and another down in November and December where is the minimum of the year;"
   ]
  },
  {
   "cell_type": "markdown",
   "metadata": {},
   "source": [
    "**Now I'll look to the distribution of user feature**"
   ]
  },
  {
   "cell_type": "code",
   "execution_count": 281,
   "metadata": {},
   "outputs": [
    {
     "data": {
      "image/png": "[encoded data removed]",
      "text/plain": [
       "<Figure size 720x576 with 1 Axes>"
      ]
     },
     "metadata": {
      "needs_background": "light"
     },
     "output_type": "display_data"
    }
   ],
   "source": [
    "# Plot distribution by \"user_type\"\n",
    "plt.figure(figsize=(10, 8))\n",
    "sb.countplot(data = df_baywheels_final, x = 'user_type', color = base_color);\n",
    "plt.title(\"Distribution Bike Trips by Users Type\", fontsize=16, fontweight='bold')\n",
    "plt.xlabel('Users')\n",
    "plt.ylabel('Number of Bike Trips');"
   ]
  },
  {
   "cell_type": "code",
   "execution_count": 297,
   "metadata": {},
   "outputs": [
    {
     "data": {
      "image/png": "[encoded data removed]",
      "text/plain": [
       "<Figure size 720x576 with 1 Axes>"
      ]
     },
     "metadata": {},
     "output_type": "display_data"
    }
   ],
   "source": [
    "# Pie plot distribution by \"user_type\"\n",
    "plt.figure(figsize=(10, 8))\n",
    "plt.title(\"Distribution (Percentage) Bike Trips by Users Type\", fontsize=16, fontweight='bold')\n",
    "labels = ['Customer', 'Subscriber']\n",
    "data = [(df_baywheels_final['user_type'].value_counts(normalize=True) * 100)['Customer'], (df_baywheels_final['user_type'].value_counts(normalize=True) * 100)['Subscriber']]\n",
    "\n",
    "plt.pie(data, explode=(0, 0.1), labels = labels, autopct='%1.1f%%', shadow=True, startangle=90);"
   ]
  },
  {
   "cell_type": "markdown",
   "metadata": {},
   "source": [
    "Here we see that more than 80% of the users who use the services are subscribers;"
   ]
  },
  {
   "cell_type": "markdown",
   "metadata": {},
   "source": [
    "### Discuss the distribution(s) of your variable(s) of interest. Were there any unusual points? Did you need to perform any transformations?\n",
    "\n",
    "We note that majority of the trips has duration between 5 and 10 minutes and that from Monday to Friday we have the majority of trips, mainly in the hours of commuting the people moving to start/leave from work.\n",
    "\n",
    "we also noticed that we have peaks in March and April and the minimum in December.\n",
    "\n",
    "More than 80% of the users who use the services are subscribers;\n",
    "\n",
    "\n",
    "### Of the features you investigated, were there any unusual distributions? Did you perform any operations on the data to tidy, adjust, or change the form of the data? If so, why did you do this?\n",
    "\n",
    "The first plotting out distribution of the trip duration needed adjust. Used .describe() and the bins size to adjust distribution which made the visualization much clearer."
   ]
  },
  {
   "cell_type": "markdown",
   "metadata": {},
   "source": [
    "## Bivariate Exploration\n"
   ]
  },
  {
   "cell_type": "markdown",
   "metadata": {},
   "source": [
    "**Start by comparing the duration of trips by the other features.**"
   ]
  },
  {
   "cell_type": "code",
   "execution_count": 303,
   "metadata": {},
   "outputs": [
    {
     "data": {
      "image/png": "[encoded data removed]",
      "text/plain": [
       "<Figure size 864x360 with 2 Axes>"
      ]
     },
     "metadata": {
      "needs_background": "light"
     },
     "output_type": "display_data"
    }
   ],
   "source": [
    "# Bivariate plots of \"duration_minute\" vs. \"user_type\"\n",
    "plt.figure(figsize = [12, 5])\n",
    "\n",
    "plt.subplot(1, 2, 1)\n",
    "ax1 = sb.violinplot(data = df_baywheels_final, x = 'user_type', y = 'duration_minute', color = base_color, inner='quartile')\n",
    "\n",
    "plt.subplot(1, 2, 2)\n",
    "sb.boxplot(data = df_baywheels_final, x = 'user_type', y = 'duration_minute', color = base_color)\n",
    "\n",
    "plt.ylim(ax1.get_ylim());\n"
   ]
  },
  {
   "cell_type": "markdown",
   "metadata": {},
   "source": [
    "We can see that \"Customer\" tend to take longer trips than \"Subscriber\" users."
   ]
  },
  {
   "cell_type": "code",
   "execution_count": 305,
   "metadata": {},
   "outputs": [
    {
     "data": {
      "image/png": "[encoded data removed]",
      "text/plain": [
       "<Figure size 720x576 with 1 Axes>"
      ]
     },
     "metadata": {
      "needs_background": "light"
     },
     "output_type": "display_data"
    }
   ],
   "source": [
    "# Bivariate plots of \"time_day_of_week\" vs \"duration_minute\"\n",
    "plt.figure(figsize=(10, 8))\n",
    "sb.barplot(data=df_baywheels_final, x='time_day_of_week', y='duration_minute', color=base_color);\n",
    "plt.xticks(rotation=90)\n",
    "plt.title(\"Trip Duration (Minute) by Day of Week\", fontsize=16, fontweight='bold')\n",
    "plt.xlabel('Day of Week');\n",
    "plt.ylabel('Avg. Trip Duration in Minute');"
   ]
  },
  {
   "cell_type": "markdown",
   "metadata": {},
   "source": [
    "We observed that during weekends people tend to take longer trips."
   ]
  },
  {
   "cell_type": "code",
   "execution_count": 306,
   "metadata": {},
   "outputs": [
    {
     "data": {
      "image/png": "[encoded data removed]",
      "text/plain": [
       "<Figure size 720x576 with 1 Axes>"
      ]
     },
     "metadata": {
      "needs_background": "light"
     },
     "output_type": "display_data"
    }
   ],
   "source": [
    "# Bivariate plots of \"time_month\" vs \"duration_minute\"\n",
    "plt.figure(figsize=(10, 8))\n",
    "sb.barplot(data=df_baywheels_final, x='time_month', y='duration_minute', color=base_color);\n",
    "plt.xticks(rotation=90)\n",
    "plt.title(\"Trip Duration (Minute) by Months\", fontsize=16, fontweight='bold')\n",
    "plt.xlabel('Months');\n",
    "plt.ylabel('Avg. Trip Duration in Minute');"
   ]
  },
  {
   "cell_type": "markdown",
   "metadata": {},
   "source": [
    "Here we observe a growing trend in the time of trips during March and peaks in June until October."
   ]
  },
  {
   "cell_type": "markdown",
   "metadata": {},
   "source": [
    "**Start by comparing the user_type by the other features.**"
   ]
  },
  {
   "cell_type": "code",
   "execution_count": 309,
   "metadata": {},
   "outputs": [
    {
     "data": {
      "image/png": "[encoded data removed]",
      "text/plain": [
       "<Figure size 720x576 with 1 Axes>"
      ]
     },
     "metadata": {
      "needs_background": "light"
     },
     "output_type": "display_data"
    }
   ],
   "source": [
    "# Bivariate plots of \"time_day_of_week\" vs \"user_type\"\n",
    "plt.figure(figsize=(10, 8))\n",
    "sb.countplot(data = df_baywheels_final, x = 'time_day_of_week', hue = 'user_type', palette = 'Blues')\n",
    "plt.xticks(rotation=90)\n",
    "plt.title(\"Bike Trips by Users vs Day of Week\", fontsize=16, fontweight='bold')\n",
    "plt.xlabel('Day of Week');\n",
    "plt.ylabel('Number of Bike Trips');"
   ]
  },
  {
   "cell_type": "markdown",
   "metadata": {},
   "source": [
    "Here we see a big down in subscribers on weekends, while user customer has a less impactful down."
   ]
  },
  {
   "cell_type": "code",
   "execution_count": 311,
   "metadata": {},
   "outputs": [
    {
     "data": {
      "image/png": "[encoded data removed]",
      "text/plain": [
       "<Figure size 720x576 with 1 Axes>"
      ]
     },
     "metadata": {
      "needs_background": "light"
     },
     "output_type": "display_data"
    }
   ],
   "source": [
    "# Bivariate plots of \"time_day_of_week\" vs \"user_type\"\n",
    "plt.figure(figsize=(10, 8))\n",
    "sb.countplot(data = df_baywheels_final, x = 'start_time_hour', hue = 'user_type', palette = 'Blues')\n",
    "plt.title(\"Bike Trips by Users vs Hours\", fontsize=16, fontweight='bold')\n",
    "plt.xlabel('Hours');\n",
    "plt.ylabel('Number of Bike Trips');"
   ]
  },
  {
   "cell_type": "markdown",
   "metadata": {},
   "source": [
    "Here again we notice the trend of increasing trips during the hours of 7 to 10 and from 16 to 20, mainly for \"Subscriber\" users. The \"Customer\" users follow the more discreet trend with more trips during the afternoon."
   ]
  },
  {
   "cell_type": "code",
   "execution_count": 312,
   "metadata": {},
   "outputs": [
    {
     "data": {
      "image/png": "[encoded data removed]",
      "text/plain": [
       "<Figure size 720x576 with 1 Axes>"
      ]
     },
     "metadata": {
      "needs_background": "light"
     },
     "output_type": "display_data"
    }
   ],
   "source": [
    "# Bivariate plots of \"time_month\" vs \"user_type\"\n",
    "plt.figure(figsize=(10, 8))\n",
    "sb.countplot(data = df_baywheels_final, x = 'time_month', hue = 'user_type', palette = 'Blues')\n",
    "plt.xticks(rotation=90)\n",
    "plt.title(\"Bike Trips by Users vs Months\", fontsize=16, fontweight='bold')\n",
    "plt.xlabel('Months');\n",
    "plt.ylabel('Number of Bike Trips');"
   ]
  },
  {
   "cell_type": "markdown",
   "metadata": {},
   "source": [
    "We were able to observe that for users \"Subscriber\" continues to follow the peak trend in March and April, falling in May and growing again in June until another peak in October and a big down in November and mainly in December.\n",
    "\n",
    "Users \"Customer\" it has a slightly different behavior, with growth starting in May and peaking in December, where also for the only time in the year it surpasses the users \"Subscriber\" in numbers of trips."
   ]
  },
  {
   "cell_type": "markdown",
   "metadata": {},
   "source": [
    "### Talk about some of the relationships you observed in this part of the investigation. How did the feature(s) of interest vary with other features in the dataset?\n",
    "\n",
    "The habit of trips varies a lot between \"Subscriber\" and \"Customer\". The \"Subscriber\" use the bike sharing system during work hours, so most trips took place on weekdays (Monday through Friday) and especially during peak hours (when you work in the morning and leave afternoon), while \"Customers\" usually have fun in the afternoon or on weekends.\n",
    "\n",
    "### Did you observe any interesting relationships between the other features (not the main feature(s) of interest)?\n",
    "\n",
    "What drew attention was the question of customer overtaking subscribers in number of trips during December."
   ]
  },
  {
   "cell_type": "markdown",
   "metadata": {},
   "source": [
    "## Multivariate Exploration\n",
    "\n",
    "**I'll compare average trip duration in minute the user_type by the other features.**"
   ]
  },
  {
   "cell_type": "code",
   "execution_count": 315,
   "metadata": {},
   "outputs": [
    {
     "data": {
      "image/png": "[encoded data removed]",
      "text/plain": [
       "<Figure size 720x576 with 1 Axes>"
      ]
     },
     "metadata": {
      "needs_background": "light"
     },
     "output_type": "display_data"
    }
   ],
   "source": [
    "# Multivariate plots of Avg. Duration (minute) by \"start_time_hour\" vs \"user_type\"\n",
    "fig = plt.figure(figsize=(10, 8))\n",
    "ax = sb.pointplot(data = df_baywheels_final, x = 'start_time_hour', y = 'duration_minute', hue = 'user_type',\n",
    "           palette = 'Blues', linestyles = '', dodge = 0.4)\n",
    "plt.title('Trip Duration (Minute) by Users vs Hours', fontsize=16, fontweight='bold')\n",
    "plt.ylabel('Avg. Trip Duration in Minute')\n",
    "plt.xlabel('Hours');\n",
    "ax.set_yticklabels([],minor = True)\n",
    "plt.show();"
   ]
  },
  {
   "cell_type": "markdown",
   "metadata": {},
   "source": [
    "We noticed that the average trip duration of hourly, put the \"Customer\" with an increase in time during the afternoon hours, while the \"Subscriber\" has little variation during the day of business hours."
   ]
  },
  {
   "cell_type": "code",
   "execution_count": 316,
   "metadata": {},
   "outputs": [
    {
     "data": {
      "image/png": "[encoded data removed]",
      "text/plain": [
       "<Figure size 720x576 with 1 Axes>"
      ]
     },
     "metadata": {
      "needs_background": "light"
     },
     "output_type": "display_data"
    }
   ],
   "source": [
    "# Multivariate plots of Avg. Duration (minute) by \"time_day_of_week\" vs \"user_type\"\n",
    "fig = plt.figure(figsize=(10, 8))\n",
    "ax = sb.pointplot(data = df_baywheels_final, x = 'time_day_of_week', y = 'duration_minute', hue = 'user_type',\n",
    "           palette = 'Blues', linestyles = '', dodge = 0.4)\n",
    "plt.title('Trip Duration (Minute) by Users vs Day of Week', fontsize=16, fontweight='bold')\n",
    "plt.ylabel('Avg. Trip Duration in Minute')\n",
    "plt.xlabel('Day of Week');\n",
    "ax.set_yticklabels([],minor = True)\n",
    "plt.show();"
   ]
  },
  {
   "cell_type": "markdown",
   "metadata": {},
   "source": [
    "We also observed that the \"Customer\" spent more time on trips during the weekend, while the \"Subscriber\" has little volatility for the weekend."
   ]
  },
  {
   "cell_type": "code",
   "execution_count": 318,
   "metadata": {},
   "outputs": [
    {
     "data": {
      "image/png": "[encoded data removed]",
      "text/plain": [
       "<Figure size 720x576 with 1 Axes>"
      ]
     },
     "metadata": {
      "needs_background": "light"
     },
     "output_type": "display_data"
    }
   ],
   "source": [
    "# Multivariate plots of Avg. Duration (minute) by \"time_month\" vs \"user_type\"\n",
    "fig = plt.figure(figsize=(10, 8))\n",
    "ax = sb.pointplot(data = df_baywheels_final, x = 'time_month', y = 'duration_minute', hue = 'user_type',\n",
    "           palette = 'Blues', linestyles = '', dodge = 0.4)\n",
    "plt.title('Trip Duration (Minute) by Users vs Months', fontsize=16, fontweight='bold')\n",
    "plt.ylabel('Avg. Trip Duration in Minute')\n",
    "plt.xlabel('Months');\n",
    "plt.xticks(rotation=90)\n",
    "ax.set_yticklabels([],minor = True)\n",
    "plt.show();"
   ]
  },
  {
   "cell_type": "markdown",
   "metadata": {},
   "source": [
    "In the monthly, we also observe this volatility of \"Customer\", and little of \"Subscriber\"."
   ]
  },
  {
   "cell_type": "markdown",
   "metadata": {},
   "source": [
    "### Talk about some of the relationships you observed in this part of the investigation. Were there features that strengthened each other in terms of looking at your feature(s) of interest?\n",
    "\n",
    "We observed that the average trip duration of \"Customer\" users are higher than that of \"Subscriber\" users, the plots which shows that the \"Customer\" has a greater focus on using the service to focus on leisure, while the \"Subscriber\" has a greater focus on using it to move between home/school to works.\n",
    "\n",
    "### Were there any interesting or surprising interactions between features?\n",
    "\n",
    "Surprisingly, the \"Customer\" has a higher number of trips in December compared to \"Subscriber\", but there is a big down in the average duration trips in December as well."
   ]
  }
 ],
 "metadata": {
  "kernelspec": {
   "display_name": "Python 3",
   "language": "python",
   "name": "python3"
  },
  "language_info": {
   "codemirror_mode": {
    "name": "ipython",
    "version": 3
   },
   "file_extension": ".py",
   "mimetype": "text/x-python",
   "name": "python",
   "nbconvert_exporter": "python",
   "pygments_lexer": "ipython3",
   "version": "3.8.2"
  }
 },
 "nbformat": 4,
 "nbformat_minor": 4
}
